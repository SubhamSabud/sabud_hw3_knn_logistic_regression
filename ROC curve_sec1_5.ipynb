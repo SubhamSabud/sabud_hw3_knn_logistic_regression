{
 "cells": [
  {
   "cell_type": "code",
   "execution_count": 1,
   "id": "c20552a4-f665-4887-a2f8-1be2bb71a906",
   "metadata": {},
   "outputs": [],
   "source": [
    "import numpy as np\n",
    "from sklearn.metrics import mean_squared_error\n",
    "import matplotlib.pyplot as plt\n",
    "from sklearn.metrics import roc_curve,auc"
   ]
  },
  {
   "cell_type": "code",
   "execution_count": 2,
   "id": "ad1b246c-b79c-4306-a944-f1169f0e3202",
   "metadata": {},
   "outputs": [],
   "source": [
    "y_pred=[0.95,0.85,0.8,0.7,0.55,0.45,0.4,0.3,0.2,0.1]\n",
    "y_test=[1,1,0,1,1,0,1,1,0,0]"
   ]
  },
  {
   "cell_type": "code",
   "execution_count": 3,
   "id": "235de258-fcd8-4bfa-83df-7079d85ec587",
   "metadata": {},
   "outputs": [],
   "source": [
    "fpr,tpr,thresold=roc_curve(y_test,y_pred)"
   ]
  },
  {
   "cell_type": "code",
   "execution_count": 4,
   "id": "dc63b996-ef08-4ab8-a093-b0e4aaaf2022",
   "metadata": {},
   "outputs": [
    {
     "data": {
      "text/plain": [
       "array([0.  , 0.  , 0.  , 0.25, 0.25, 0.5 , 0.5 , 1.  ])"
      ]
     },
     "execution_count": 4,
     "metadata": {},
     "output_type": "execute_result"
    }
   ],
   "source": [
    "fpr"
   ]
  },
  {
   "cell_type": "code",
   "execution_count": 5,
   "id": "1e6cf0c2-ca0b-4612-a39c-f6254e134d9f",
   "metadata": {},
   "outputs": [
    {
     "data": {
      "text/plain": [
       "array([0.        , 0.16666667, 0.33333333, 0.33333333, 0.66666667,\n",
       "       0.66666667, 1.        , 1.        ])"
      ]
     },
     "execution_count": 5,
     "metadata": {},
     "output_type": "execute_result"
    }
   ],
   "source": [
    "tpr"
   ]
  },
  {
   "cell_type": "code",
   "execution_count": 6,
   "id": "0a07bfa0-4ef6-4fbf-abf5-0f7c025137e4",
   "metadata": {},
   "outputs": [
    {
     "data": {
      "text/plain": [
       "array([ inf, 0.95, 0.85, 0.8 , 0.55, 0.45, 0.3 , 0.1 ])"
      ]
     },
     "execution_count": 6,
     "metadata": {},
     "output_type": "execute_result"
    }
   ],
   "source": [
    "thresold"
   ]
  },
  {
   "cell_type": "code",
   "execution_count": 7,
   "id": "e06c2bb8-d873-418a-af90-413cca4ad215",
   "metadata": {},
   "outputs": [],
   "source": [
    "auc=auc(fpr,tpr)"
   ]
  },
  {
   "cell_type": "code",
   "execution_count": 8,
   "id": "4c094aaf-7cdc-4dc4-a859-06be89888382",
   "metadata": {},
   "outputs": [
    {
     "data": {
      "text/plain": [
       "0.75"
      ]
     },
     "execution_count": 8,
     "metadata": {},
     "output_type": "execute_result"
    }
   ],
   "source": [
    "auc"
   ]
  },
  {
   "cell_type": "code",
   "execution_count": 9,
   "id": "bc16d364-31ea-4839-88e7-ed70fd8da228",
   "metadata": {},
   "outputs": [
    {
     "data": {
      "image/png": "[encoded data removed]",
      "text/plain": [
       "<Figure size 640x480 with 1 Axes>"
      ]
     },
     "metadata": {},
     "output_type": "display_data"
    }
   ],
   "source": [
    "plt.figure()\n",
    "plt.plot(fpr,tpr)\n",
    "plt.xlabel('False Positive Rate')\n",
    "plt.ylabel('True Positive Rate')\n",
    "plt.show\n",
    "plt.savefig(\"ROC_curve_sec1_Q5.eps\")"
   ]
  },
  {
   "cell_type": "markdown",
   "id": "435805b7-55a0-45c9-bdc3-3cb0ad01998d",
   "metadata": {},
   "source": [
    "## determining optimum thresold"
   ]
  },
  {
   "cell_type": "code",
   "execution_count": 10,
   "id": "f8ef559e-88f6-4db1-b4fa-cad0249499f1",
   "metadata": {},
   "outputs": [
    {
     "name": "stdout",
     "output_type": "stream",
     "text": [
      "optimal thresold is:  0.3\n"
     ]
    }
   ],
   "source": [
    "optimal_indices=np.argmax(tpr-fpr) #determining the indices where (tpr-fpr) vector has maximum value\n",
    "optimal_thresold=thresold[optimal_indices]\n",
    "print(\"optimal thresold is: \", optimal_thresold)"
   ]
  },
  {
   "cell_type": "code",
   "execution_count": null,
   "id": "b722e91a-2d8f-40f9-aff0-b70d7cd5c5c1",
   "metadata": {},
   "outputs": [],
   "source": []
  }
 ],
 "metadata": {
  "kernelspec": {
   "display_name": "Python 3 (ipykernel)",
   "language": "python",
   "name": "python3"
  },
  "language_info": {
   "codemirror_mode": {
    "name": "ipython",
    "version": 3
   },
   "file_extension": ".py",
   "mimetype": "text/x-python",
   "name": "python",
   "nbconvert_exporter": "python",
   "pygments_lexer": "ipython3",
   "version": "3.11.5"
  }
 },
 "nbformat": 4,
 "nbformat_minor": 5
}
